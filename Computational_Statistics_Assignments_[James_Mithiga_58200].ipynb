{
  "nbformat": 4,
  "nbformat_minor": 0,
  "metadata": {
    "colab": {
      "provenance": []
    },
    "kernelspec": {
      "name": "python3",
      "display_name": "Python 3"
    },
    "language_info": {
      "name": "python"
    }
  },
  "cells": [
    {
      "cell_type": "markdown",
      "source": [
        "##Week 1 Assignment"
      ],
      "metadata": {
        "id": "wcL-cjXo8CgI"
      }
    },
    {
      "cell_type": "code",
      "source": [
        "import cvxpy as cp\n",
        "import numpy as np"
      ],
      "metadata": {
        "id": "ibWZhehA8g1b"
      },
      "execution_count": 1,
      "outputs": []
    },
    {
      "cell_type": "markdown",
      "source": [
        "### Problem 1: Supply Chain Optimization under Demand Uncertainty ###"
      ],
      "metadata": {
        "id": "D2vLIkm-HS5B"
      }
    },
    {
      "cell_type": "code",
      "execution_count": 4,
      "metadata": {
        "colab": {
          "base_uri": "https://localhost:8080/"
        },
        "id": "vT-nGV2R8BLf",
        "outputId": "e35bd023-9796-4843-a765-f20f7ad9798d"
      },
      "outputs": [
        {
          "output_type": "stream",
          "name": "stdout",
          "text": [
            "Optimal Supply: 309 Electronic Units\n"
          ]
        }
      ],
      "source": [
        "demand = np.array([255, 302, 270, 317, 285, 332, 300, 347, 315, 362, 330, 262, 309, 277])\n",
        "probability = np.array([0.03, 0.15, 0.04, 0.1, 0.05, 0.05, 0.09, 0.01, 0.09, 0.03, 0.2, 0.07, 0.05, 0.04])\n",
        "\n",
        "supply = cp.Variable()\n",
        "\n",
        "# Expected cost: Weighted absolute difference between supply and demand\n",
        "expected_cost = cp.sum(cp.multiply(probability, cp.abs(supply - demand)))\n",
        "\n",
        "# Constraints\n",
        "constraints = [supply >= 120, supply <= 330]\n",
        "\n",
        "# Solve problem\n",
        "problem = cp.Problem(cp.Minimize(expected_cost), constraints)\n",
        "problem.solve()\n",
        "\n",
        "print(\"Optimal Supply:\", int(np.round(supply.value, 0)), \"Electronic Units\")"
      ]
    },
    {
      "cell_type": "markdown",
      "source": [
        "### Problem 2: Healthcare Resource Allocation with Uncertain Demand ###"
      ],
      "metadata": {
        "id": "b84Fta5TIqQy"
      }
    },
    {
      "cell_type": "code",
      "source": [
        "arrivals = np.array([25, 20, 30, 50, 27, 39, 42, 29, 35, 42])\n",
        "arrival_probabilities = np.array([0.1, 0.1, 0.08, 0.15, 0.09, 0.05, 0.1, 0.1, 0.13, 0.1])\n",
        "\n",
        "beds = cp.Variable()\n",
        "\n",
        "# Expected cost: Weighted absolute deviation\n",
        "expected_cost = cp.sum(cp.multiply(arrival_probabilities, cp.abs(beds - arrivals)))\n",
        "\n",
        "# Constraints\n",
        "constraints = [beds >= 17, beds <= 55]\n",
        "\n",
        "# Solve problem\n",
        "problem = cp.Problem(cp.Minimize(expected_cost), constraints)\n",
        "problem.solve()\n",
        "\n",
        "print(\"Optimal ICU Bed Allocation:\", int(np.round(beds.value, 0)), \"ICU Beds\")"
      ],
      "metadata": {
        "colab": {
          "base_uri": "https://localhost:8080/"
        },
        "id": "aREqEArD8Hj_",
        "outputId": "2e2a2cc0-deba-4aca-9fb6-86d4d7f205a8"
      },
      "execution_count": 5,
      "outputs": [
        {
          "output_type": "stream",
          "name": "stdout",
          "text": [
            "Optimal ICU Bed Allocation: 35 ICU Beds\n"
          ]
        }
      ]
    },
    {
      "cell_type": "code",
      "source": [],
      "metadata": {
        "id": "71U5ibrn85l5"
      },
      "execution_count": 3,
      "outputs": []
    }
  ]
}